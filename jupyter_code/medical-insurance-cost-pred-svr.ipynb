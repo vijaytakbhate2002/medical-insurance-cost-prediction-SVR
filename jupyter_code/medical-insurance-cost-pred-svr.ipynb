{
 "cells": [
  {
   "cell_type": "code",
   "execution_count": 1,
   "metadata": {
    "_cell_guid": "b1076dfc-b9ad-4769-8c92-a6c4dae69d19",
    "_uuid": "8f2839f25d086af736a60e9eeb907d3b93b6e0e5",
    "execution": {
     "iopub.execute_input": "2025-09-21T15:43:13.103461Z",
     "iopub.status.busy": "2025-09-21T15:43:13.103138Z",
     "iopub.status.idle": "2025-09-21T15:43:13.117094Z",
     "shell.execute_reply": "2025-09-21T15:43:13.116096Z",
     "shell.execute_reply.started": "2025-09-21T15:43:13.103435Z"
    },
    "trusted": true
   },
   "outputs": [],
   "source": [
    "import numpy as np \n",
    "import pandas as pd"
   ]
  },
  {
   "cell_type": "code",
   "execution_count": 2,
   "metadata": {
    "execution": {
     "iopub.execute_input": "2025-09-21T15:43:13.120358Z",
     "iopub.status.busy": "2025-09-21T15:43:13.119824Z",
     "iopub.status.idle": "2025-09-21T15:43:13.155893Z",
     "shell.execute_reply": "2025-09-21T15:43:13.154727Z",
     "shell.execute_reply.started": "2025-09-21T15:43:13.120335Z"
    },
    "trusted": true
   },
   "outputs": [
    {
     "data": {
      "text/html": [
       "<div>\n",
       "<style scoped>\n",
       "    .dataframe tbody tr th:only-of-type {\n",
       "        vertical-align: middle;\n",
       "    }\n",
       "\n",
       "    .dataframe tbody tr th {\n",
       "        vertical-align: top;\n",
       "    }\n",
       "\n",
       "    .dataframe thead th {\n",
       "        text-align: right;\n",
       "    }\n",
       "</style>\n",
       "<table border=\"1\" class=\"dataframe\">\n",
       "  <thead>\n",
       "    <tr style=\"text-align: right;\">\n",
       "      <th></th>\n",
       "      <th>age</th>\n",
       "      <th>sex</th>\n",
       "      <th>bmi</th>\n",
       "      <th>children</th>\n",
       "      <th>smoker</th>\n",
       "      <th>region</th>\n",
       "      <th>charges</th>\n",
       "    </tr>\n",
       "  </thead>\n",
       "  <tbody>\n",
       "    <tr>\n",
       "      <th>0</th>\n",
       "      <td>19</td>\n",
       "      <td>female</td>\n",
       "      <td>27.900</td>\n",
       "      <td>0</td>\n",
       "      <td>yes</td>\n",
       "      <td>southwest</td>\n",
       "      <td>16884.92400</td>\n",
       "    </tr>\n",
       "    <tr>\n",
       "      <th>1</th>\n",
       "      <td>18</td>\n",
       "      <td>male</td>\n",
       "      <td>33.770</td>\n",
       "      <td>1</td>\n",
       "      <td>no</td>\n",
       "      <td>southeast</td>\n",
       "      <td>1725.55230</td>\n",
       "    </tr>\n",
       "    <tr>\n",
       "      <th>2</th>\n",
       "      <td>28</td>\n",
       "      <td>male</td>\n",
       "      <td>33.000</td>\n",
       "      <td>3</td>\n",
       "      <td>no</td>\n",
       "      <td>southeast</td>\n",
       "      <td>4449.46200</td>\n",
       "    </tr>\n",
       "    <tr>\n",
       "      <th>3</th>\n",
       "      <td>33</td>\n",
       "      <td>male</td>\n",
       "      <td>22.705</td>\n",
       "      <td>0</td>\n",
       "      <td>no</td>\n",
       "      <td>northwest</td>\n",
       "      <td>21984.47061</td>\n",
       "    </tr>\n",
       "    <tr>\n",
       "      <th>4</th>\n",
       "      <td>32</td>\n",
       "      <td>male</td>\n",
       "      <td>28.880</td>\n",
       "      <td>0</td>\n",
       "      <td>no</td>\n",
       "      <td>northwest</td>\n",
       "      <td>3866.85520</td>\n",
       "    </tr>\n",
       "  </tbody>\n",
       "</table>\n",
       "</div>"
      ],
      "text/plain": [
       "   age     sex     bmi  children smoker     region      charges\n",
       "0   19  female  27.900         0    yes  southwest  16884.92400\n",
       "1   18    male  33.770         1     no  southeast   1725.55230\n",
       "2   28    male  33.000         3     no  southeast   4449.46200\n",
       "3   33    male  22.705         0     no  northwest  21984.47061\n",
       "4   32    male  28.880         0     no  northwest   3866.85520"
      ]
     },
     "execution_count": 2,
     "metadata": {},
     "output_type": "execute_result"
    }
   ],
   "source": [
    "df = pd.read_csv(\"insurance.csv\")\n",
    "df.head()"
   ]
  },
  {
   "cell_type": "code",
   "execution_count": 3,
   "metadata": {
    "execution": {
     "iopub.execute_input": "2025-09-21T15:43:13.157211Z",
     "iopub.status.busy": "2025-09-21T15:43:13.156927Z",
     "iopub.status.idle": "2025-09-21T15:43:13.166204Z",
     "shell.execute_reply": "2025-09-21T15:43:13.165104Z",
     "shell.execute_reply.started": "2025-09-21T15:43:13.157181Z"
    },
    "trusted": true
   },
   "outputs": [
    {
     "data": {
      "text/plain": [
       "age         0\n",
       "sex         0\n",
       "bmi         0\n",
       "children    0\n",
       "smoker      0\n",
       "region      0\n",
       "charges     0\n",
       "dtype: int64"
      ]
     },
     "execution_count": 3,
     "metadata": {},
     "output_type": "execute_result"
    }
   ],
   "source": [
    "df.isnull().sum()"
   ]
  },
  {
   "cell_type": "code",
   "execution_count": 4,
   "metadata": {
    "execution": {
     "iopub.execute_input": "2025-09-21T15:43:13.167390Z",
     "iopub.status.busy": "2025-09-21T15:43:13.167169Z",
     "iopub.status.idle": "2025-09-21T15:43:13.187791Z",
     "shell.execute_reply": "2025-09-21T15:43:13.186758Z",
     "shell.execute_reply.started": "2025-09-21T15:43:13.167373Z"
    },
    "trusted": true
   },
   "outputs": [
    {
     "name": "stdout",
     "output_type": "stream",
     "text": [
      "['sex', 'smoker', 'region'] ['age', 'bmi', 'children'] ['charges']\n"
     ]
    }
   ],
   "source": [
    "cat_cols = list(df.select_dtypes(exclude = np.number).columns)\n",
    "num_cols = list(df.select_dtypes(include = np.number).columns)\n",
    "\n",
    "target_cols = ['charges']\n",
    "num_cols.remove(target_cols[0])\n",
    "\n",
    "print(cat_cols, num_cols, target_cols)"
   ]
  },
  {
   "cell_type": "code",
   "execution_count": 5,
   "metadata": {},
   "outputs": [
    {
     "data": {
      "text/plain": [
       "region\n",
       "southeast    364\n",
       "southwest    325\n",
       "northwest    325\n",
       "northeast    324\n",
       "Name: count, dtype: int64"
      ]
     },
     "execution_count": 5,
     "metadata": {},
     "output_type": "execute_result"
    }
   ],
   "source": [
    "df['region'].value_counts()"
   ]
  },
  {
   "cell_type": "markdown",
   "metadata": {},
   "source": [
    "## Data Processing Pipeline"
   ]
  },
  {
   "cell_type": "code",
   "execution_count": 109,
   "metadata": {
    "execution": {
     "iopub.execute_input": "2025-09-21T15:43:13.189334Z",
     "iopub.status.busy": "2025-09-21T15:43:13.188977Z",
     "iopub.status.idle": "2025-09-21T15:43:13.223282Z",
     "shell.execute_reply": "2025-09-21T15:43:13.222163Z",
     "shell.execute_reply.started": "2025-09-21T15:43:13.189309Z"
    },
    "trusted": true
   },
   "outputs": [
    {
     "name": "stdout",
     "output_type": "stream",
     "text": [
      "(1338, 6) (1338,)\n"
     ]
    }
   ],
   "source": [
    "from sklearn.base import BaseEstimator, TransformerMixin\n",
    "from sklearn.preprocessing import LabelEncoder, MinMaxScaler\n",
    "from sklearn.compose import ColumnTransformer\n",
    "from sklearn.pipeline import Pipeline\n",
    "\n",
    "class LabelEncoding(BaseEstimator, TransformerMixin):\n",
    "    def __init__(self):\n",
    "        self.encoders = {}\n",
    "\n",
    "    def fit(self, X, y=None):\n",
    "        self.encoders = {\n",
    "            col: LabelEncoder().fit(X[col]) for col in X.columns\n",
    "        }\n",
    "        return self\n",
    "\n",
    "    def transform(self, X, y=None):\n",
    "        X_copy = X.copy()\n",
    "        for col, encoder in self.encoders.items():\n",
    "            X_copy[col] = encoder.transform(X_copy[col])\n",
    "        return X_copy\n",
    "\n",
    "\n",
    "\n",
    "column_transformer = ColumnTransformer(\n",
    "    transformers=[\n",
    "        ('cat', LabelEncoding(), cat_cols),\n",
    "        ('num', MinMaxScaler(), num_cols)\n",
    "    ], \n",
    "    remainder='passthrough' \n",
    ")\n",
    "\n",
    "\n",
    "pipeline = Pipeline(steps=[\n",
    "    ('processor', column_transformer)\n",
    "])\n",
    "\n",
    "\n",
    "X = pipeline.fit_transform(df.drop(target_cols, axis='columns'), df[target_cols])\n",
    "\n",
    "processed_cols = num_cols + cat_cols \n",
    "X = pd.DataFrame(X, columns=processed_cols)\n",
    "\n",
    "\n",
    "\n",
    "target_scaling = MinMaxScaler()\n",
    "y = target_scaling.fit_transform(df[target_cols]).reshape(1, -1)[0]\n",
    "y = pd.Series(y)\n",
    "\n",
    "print(X.shape, y.shape)"
   ]
  },
  {
   "cell_type": "markdown",
   "metadata": {},
   "source": [
    "## Split Data into Training and Testing"
   ]
  },
  {
   "cell_type": "code",
   "execution_count": 110,
   "metadata": {
    "execution": {
     "iopub.execute_input": "2025-09-21T15:43:13.224785Z",
     "iopub.status.busy": "2025-09-21T15:43:13.224432Z",
     "iopub.status.idle": "2025-09-21T15:43:13.241503Z",
     "shell.execute_reply": "2025-09-21T15:43:13.240710Z",
     "shell.execute_reply.started": "2025-09-21T15:43:13.224765Z"
    },
    "trusted": true
   },
   "outputs": [
    {
     "data": {
      "text/plain": [
       "((1070, 6), (268,))"
      ]
     },
     "execution_count": 110,
     "metadata": {},
     "output_type": "execute_result"
    }
   ],
   "source": [
    "from sklearn.model_selection import train_test_split\n",
    "\n",
    "X_train, X_test, y_train, y_test = train_test_split(X, y, \n",
    "                                                    test_size=0.2,\n",
    "                                                    shuffle=True)\n",
    "X_train.shape, y_test.shape"
   ]
  },
  {
   "cell_type": "markdown",
   "metadata": {},
   "source": [
    "## Model Training"
   ]
  },
  {
   "cell_type": "code",
   "execution_count": 111,
   "metadata": {
    "execution": {
     "iopub.execute_input": "2025-09-21T15:43:13.243029Z",
     "iopub.status.busy": "2025-09-21T15:43:13.242671Z",
     "iopub.status.idle": "2025-09-21T15:43:13.693325Z",
     "shell.execute_reply": "2025-09-21T15:43:13.692173Z",
     "shell.execute_reply.started": "2025-09-21T15:43:13.243007Z"
    },
    "trusted": true
   },
   "outputs": [
    {
     "name": "stdout",
     "output_type": "stream",
     "text": [
      "******************** LinearRegression() ********************\n",
      "Training Score  0.7602568495644851\n",
      "Testing Score  0.7036949357505351\n",
      "******************** RandomForestRegressor() ********************\n",
      "Training Score  0.9777413744011719\n",
      "Testing Score  0.7922902899433336\n",
      "******************** SVR() ********************\n",
      "Training Score  0.7144323107530048\n",
      "Testing Score  0.6620780321839483\n"
     ]
    }
   ],
   "source": [
    "from sklearn.linear_model import LinearRegression\n",
    "from sklearn.ensemble import RandomForestRegressor\n",
    "from sklearn.svm import SVR\n",
    "\n",
    "models = [\n",
    "    LinearRegression(),\n",
    "    RandomForestRegressor(),\n",
    "    SVR()\n",
    "]\n",
    "\n",
    "for algo in models:\n",
    "    print(\"*\" * 20,algo, \"*\" * 20)\n",
    "    model = algo.fit(X_train, y_train)\n",
    "    print(\"Training Score \", model.score(X_train, y_train))\n",
    "    print(\"Testing Score \", model.score(X_test, y_test))"
   ]
  },
  {
   "cell_type": "code",
   "execution_count": 112,
   "metadata": {
    "execution": {
     "iopub.execute_input": "2025-09-21T15:43:13.694794Z",
     "iopub.status.busy": "2025-09-21T15:43:13.694450Z",
     "iopub.status.idle": "2025-09-21T15:44:13.543876Z",
     "shell.execute_reply": "2025-09-21T15:44:13.543079Z",
     "shell.execute_reply.started": "2025-09-21T15:43:13.694767Z"
    },
    "trusted": true
   },
   "outputs": [
    {
     "name": "stdout",
     "output_type": "stream",
     "text": [
      "Fitting 5 folds for each of 96 candidates, totalling 480 fits\n",
      "[CV] END ....C=0.1, epsilon=0.01, gamma=scale, kernel=linear; total time=   0.1s\n",
      "[CV] END .......C=0.1, epsilon=0.01, gamma=scale, kernel=rbf; total time=   0.0s\n",
      "[CV] END .......C=0.1, epsilon=0.01, gamma=scale, kernel=rbf; total time=   0.0s\n",
      "[CV] END ......C=0.1, epsilon=0.01, gamma=scale, kernel=poly; total time=   0.1s\n",
      "[CV] END .....C=0.1, epsilon=0.01, gamma=auto, kernel=linear; total time=   0.1s\n",
      "[CV] END ........C=0.1, epsilon=0.01, gamma=auto, kernel=rbf; total time=   0.1s\n",
      "[CV] END .......C=0.1, epsilon=0.01, gamma=auto, kernel=poly; total time=   0.1s\n",
      "[CV] END .......C=0.1, epsilon=0.01, gamma=auto, kernel=poly; total time=   0.1s\n",
      "[CV] END ........C=0.1, epsilon=0.1, gamma=scale, kernel=rbf; total time=   0.0s\n",
      "[CV] END ........C=0.1, epsilon=0.1, gamma=scale, kernel=rbf; total time=   0.0s\n",
      "[CV] END .......C=0.1, epsilon=0.1, gamma=scale, kernel=poly; total time=   0.1s\n",
      "[CV] END .......C=0.1, epsilon=0.1, gamma=scale, kernel=poly; total time=   0.1s\n",
      "[CV] END .........C=0.1, epsilon=0.1, gamma=auto, kernel=rbf; total time=   0.0s\n",
      "[CV] END .........C=0.1, epsilon=0.1, gamma=auto, kernel=rbf; total time=   0.0s\n",
      "[CV] END .........C=0.1, epsilon=0.1, gamma=auto, kernel=rbf; total time=   0.0s\n",
      "[CV] END ........C=0.1, epsilon=0.1, gamma=auto, kernel=poly; total time=   0.0s\n",
      "[CV] END ........C=0.1, epsilon=0.5, gamma=auto, kernel=poly; total time=   0.0s\n",
      "[CV] END ........C=0.1, epsilon=0.5, gamma=auto, kernel=poly; total time=   0.0s\n",
      "[CV] END .......C=0.1, epsilon=1, gamma=scale, kernel=linear; total time=   0.0s\n",
      "[CV] END .......C=0.1, epsilon=1, gamma=scale, kernel=linear; total time=   0.0s\n",
      "[CV] END .......C=0.1, epsilon=1, gamma=scale, kernel=linear; total time=   0.0s\n",
      "[CV] END .......C=0.1, epsilon=1, gamma=scale, kernel=linear; total time=   0.0s\n",
      "[CV] END .......C=0.1, epsilon=1, gamma=scale, kernel=linear; total time=   0.0s\n",
      "[CV] END ..........C=0.1, epsilon=1, gamma=scale, kernel=rbf; total time=   0.0s\n",
      "[CV] END ......C=1, epsilon=0.01, gamma=scale, kernel=linear; total time=   0.2s\n",
      "[CV] END ......C=1, epsilon=0.01, gamma=scale, kernel=linear; total time=   0.2s\n",
      "[CV] END ......C=1, epsilon=0.01, gamma=scale, kernel=linear; total time=   0.2s\n",
      "[CV] END ......C=1, epsilon=0.01, gamma=scale, kernel=linear; total time=   0.2s\n",
      "[CV] END ......C=1, epsilon=0.01, gamma=scale, kernel=linear; total time=   0.2s\n",
      "[CV] END .........C=1, epsilon=0.01, gamma=scale, kernel=rbf; total time=   0.1s\n",
      "[CV] END .........C=1, epsilon=0.01, gamma=scale, kernel=rbf; total time=   0.1s\n",
      "[CV] END .........C=1, epsilon=0.01, gamma=scale, kernel=rbf; total time=   0.1s\n",
      "[CV] END ..........C=1, epsilon=0.1, gamma=auto, kernel=poly; total time=   0.1s\n",
      "[CV] END ..........C=1, epsilon=0.1, gamma=auto, kernel=poly; total time=   0.1s\n",
      "[CV] END ..........C=1, epsilon=0.1, gamma=auto, kernel=poly; total time=   0.1s\n",
      "[CV] END ..........C=1, epsilon=0.1, gamma=auto, kernel=poly; total time=   0.1s\n",
      "[CV] END .......C=1, epsilon=0.5, gamma=scale, kernel=linear; total time=   0.0s\n",
      "[CV] END .......C=1, epsilon=0.5, gamma=scale, kernel=linear; total time=   0.0s\n",
      "[CV] END .......C=1, epsilon=0.5, gamma=scale, kernel=linear; total time=   0.0s\n",
      "[CV] END .......C=1, epsilon=0.5, gamma=scale, kernel=linear; total time=   0.0s\n",
      "[CV] END .......C=1, epsilon=0.5, gamma=scale, kernel=linear; total time=   0.0s\n",
      "[CV] END ..........C=1, epsilon=0.5, gamma=scale, kernel=rbf; total time=   0.0s\n",
      "[CV] END ..........C=1, epsilon=0.5, gamma=scale, kernel=rbf; total time=   0.0s\n",
      "[CV] END ..........C=1, epsilon=0.5, gamma=scale, kernel=rbf; total time=   0.0s\n",
      "[CV] END ..........C=1, epsilon=0.5, gamma=scale, kernel=rbf; total time=   0.0s\n",
      "[CV] END ..........C=1, epsilon=0.5, gamma=scale, kernel=rbf; total time=   0.0s\n",
      "[CV] END .........C=1, epsilon=0.5, gamma=scale, kernel=poly; total time=   0.0s\n",
      "[CV] END .........C=1, epsilon=0.5, gamma=scale, kernel=poly; total time=   0.0s\n",
      "[CV] END ..........C=1, epsilon=0.5, gamma=auto, kernel=poly; total time=   0.0s\n",
      "[CV] END ..........C=1, epsilon=0.5, gamma=auto, kernel=poly; total time=   0.0s\n",
      "[CV] END .........C=1, epsilon=1, gamma=scale, kernel=linear; total time=   0.0s\n",
      "[CV] END .........C=1, epsilon=1, gamma=scale, kernel=linear; total time=   0.0s\n",
      "[CV] END .........C=1, epsilon=1, gamma=scale, kernel=linear; total time=   0.0s\n",
      "[CV] END .........C=1, epsilon=1, gamma=scale, kernel=linear; total time=   0.0s\n",
      "[CV] END .........C=1, epsilon=1, gamma=scale, kernel=linear; total time=   0.0s\n",
      "[CV] END ............C=1, epsilon=1, gamma=scale, kernel=rbf; total time=   0.0s\n",
      "[CV] END ............C=1, epsilon=1, gamma=scale, kernel=rbf; total time=   0.0s\n",
      "[CV] END ............C=1, epsilon=1, gamma=scale, kernel=rbf; total time=   0.0s\n",
      "[CV] END ............C=1, epsilon=1, gamma=scale, kernel=rbf; total time=   0.0s\n",
      "[CV] END ............C=1, epsilon=1, gamma=scale, kernel=rbf; total time=   0.0s\n",
      "[CV] END ...........C=1, epsilon=1, gamma=scale, kernel=poly; total time=   0.0s\n",
      "[CV] END ...........C=1, epsilon=1, gamma=scale, kernel=poly; total time=   0.0s\n",
      "[CV] END ...........C=1, epsilon=1, gamma=scale, kernel=poly; total time=   0.0s\n",
      "[CV] END ...........C=1, epsilon=1, gamma=scale, kernel=poly; total time=   0.0s\n",
      "[CV] END .....C=10, epsilon=0.01, gamma=scale, kernel=linear; total time=   0.7s\n",
      "[CV] END .....C=10, epsilon=0.01, gamma=scale, kernel=linear; total time=   0.8s\n",
      "[CV] END .....C=10, epsilon=0.01, gamma=scale, kernel=linear; total time=   0.7s\n",
      "[CV] END .....C=10, epsilon=0.01, gamma=scale, kernel=linear; total time=   0.8s\n",
      "[CV] END .....C=10, epsilon=0.01, gamma=scale, kernel=linear; total time=   0.7s\n",
      "[CV] END ........C=10, epsilon=0.01, gamma=scale, kernel=rbf; total time=   0.2s\n",
      "[CV] END ........C=10, epsilon=0.01, gamma=scale, kernel=rbf; total time=   0.2s\n",
      "[CV] END ........C=10, epsilon=0.01, gamma=scale, kernel=rbf; total time=   0.2s\n",
      "[CV] END ........C=10, epsilon=0.01, gamma=scale, kernel=rbf; total time=   0.2s\n",
      "[CV] END ........C=10, epsilon=0.01, gamma=scale, kernel=rbf; total time=   0.2s\n",
      "[CV] END .......C=10, epsilon=0.01, gamma=scale, kernel=poly; total time=   2.1s\n",
      "[CV] END .......C=10, epsilon=0.01, gamma=scale, kernel=poly; total time=   1.6s\n",
      "[CV] END .......C=10, epsilon=0.01, gamma=scale, kernel=poly; total time=   2.1s\n",
      "[CV] END .......C=10, epsilon=0.01, gamma=scale, kernel=poly; total time=   2.1s\n",
      "[CV] END .......C=10, epsilon=0.01, gamma=scale, kernel=poly; total time=   1.9s\n",
      "[CV] END ......C=10, epsilon=0.01, gamma=auto, kernel=linear; total time=   0.7s\n",
      "[CV] END .......C=100, epsilon=0.1, gamma=scale, kernel=poly; total time=   4.2s\n",
      "[CV] END .......C=100, epsilon=0.1, gamma=scale, kernel=poly; total time=   5.1s\n",
      "[CV] END .......C=100, epsilon=0.1, gamma=scale, kernel=poly; total time=   3.8s\n",
      "[CV] END .......C=100, epsilon=0.1, gamma=scale, kernel=poly; total time=   4.0s\n",
      "[CV] END .......C=100, epsilon=0.1, gamma=scale, kernel=poly; total time=   2.5s\n",
      "[CV] END ......C=100, epsilon=0.1, gamma=auto, kernel=linear; total time=   0.6s\n",
      "[CV] END ......C=100, epsilon=0.1, gamma=auto, kernel=linear; total time=   0.5s\n",
      "[CV] END ......C=100, epsilon=0.1, gamma=auto, kernel=linear; total time=   0.6s\n",
      "[CV] END ......C=100, epsilon=0.1, gamma=auto, kernel=linear; total time=   0.6s\n",
      "[CV] END ......C=100, epsilon=0.1, gamma=auto, kernel=linear; total time=   0.5s\n",
      "[CV] END .........C=100, epsilon=0.1, gamma=auto, kernel=rbf; total time=   0.2s\n",
      "[CV] END .........C=100, epsilon=0.1, gamma=auto, kernel=rbf; total time=   0.2s\n",
      "[CV] END .........C=100, epsilon=0.1, gamma=auto, kernel=rbf; total time=   0.2s\n",
      "[CV] END .........C=100, epsilon=0.1, gamma=auto, kernel=rbf; total time=   0.2s\n",
      "[CV] END .........C=100, epsilon=0.1, gamma=auto, kernel=rbf; total time=   0.2s\n",
      "[CV] END ........C=100, epsilon=0.1, gamma=auto, kernel=poly; total time=   0.3s\n",
      "[CV] END ....C=0.1, epsilon=0.01, gamma=scale, kernel=linear; total time=   0.1s\n",
      "[CV] END .......C=0.1, epsilon=0.01, gamma=scale, kernel=rbf; total time=   0.0s\n",
      "[CV] END ......C=0.1, epsilon=0.01, gamma=scale, kernel=poly; total time=   0.1s\n",
      "[CV] END ......C=0.1, epsilon=0.01, gamma=scale, kernel=poly; total time=   0.1s\n",
      "[CV] END ........C=0.1, epsilon=0.01, gamma=auto, kernel=rbf; total time=   0.1s\n",
      "[CV] END ........C=0.1, epsilon=0.01, gamma=auto, kernel=rbf; total time=   0.0s[CV] END ....C=0.1, epsilon=0.01, gamma=scale, kernel=linear; total time=   0.1s\n",
      "[CV] END .......C=0.1, epsilon=0.01, gamma=scale, kernel=rbf; total time=   0.1s\n",
      "[CV] END ......C=0.1, epsilon=0.01, gamma=scale, kernel=poly; total time=   0.1s\n",
      "[CV] END ......C=0.1, epsilon=0.01, gamma=scale, kernel=poly; total time=   0.1s\n",
      "[CV] END .....C=0.1, epsilon=0.01, gamma=auto, kernel=linear; total time=   0.1s\n",
      "[CV] END ........C=0.1, epsilon=0.01, gamma=auto, kernel=rbf; total time=   0.1s\n",
      "[CV] END .......C=0.1, epsilon=0.01, gamma=auto, kernel=poly; total time=   0.1s\n",
      "[CV] END .....C=0.1, epsilon=0.1, gamma=scale, kernel=linear; total time=   0.0s\n",
      "[CV] END ........C=0.1, epsilon=0.1, gamma=scale, kernel=rbf; total time=   0.0s\n",
      "[CV] END ........C=0.1, epsilon=0.1, gamma=scale, kernel=rbf; total time=   0.0s\n",
      "[CV] END ......C=0.1, epsilon=0.1, gamma=auto, kernel=linear; total time=   0.0s\n",
      "[CV] END ......C=0.1, epsilon=0.1, gamma=auto, kernel=linear; total time=   0.0s\n",
      "[CV] END .....C=0.1, epsilon=0.5, gamma=scale, kernel=linear; total time=   0.0s\n",
      "[CV] END .....C=0.1, epsilon=0.5, gamma=scale, kernel=linear; total time=   0.0s\n",
      "[CV] END .....C=0.1, epsilon=0.5, gamma=scale, kernel=linear; total time=   0.0s\n",
      "[CV] END .....C=0.1, epsilon=0.5, gamma=scale, kernel=linear; total time=   0.0s\n",
      "[CV] END .....C=0.1, epsilon=0.5, gamma=scale, kernel=linear; total time=   0.0s\n",
      "[CV] END ........C=0.1, epsilon=0.5, gamma=scale, kernel=rbf; total time=   0.0s\n",
      "[CV] END ........C=0.1, epsilon=0.5, gamma=scale, kernel=rbf; total time=   0.0s\n",
      "[CV] END ........C=0.1, epsilon=0.5, gamma=scale, kernel=rbf; total time=   0.0s\n",
      "[CV] END ........C=0.1, epsilon=0.5, gamma=scale, kernel=rbf; total time=   0.0s\n",
      "[CV] END ........C=0.1, epsilon=0.5, gamma=scale, kernel=rbf; total time=   0.0s\n",
      "[CV] END .......C=0.1, epsilon=0.5, gamma=scale, kernel=poly; total time=   0.0s\n",
      "[CV] END .......C=0.1, epsilon=0.5, gamma=scale, kernel=poly; total time=   0.0s\n",
      "[CV] END .......C=0.1, epsilon=0.5, gamma=scale, kernel=poly; total time=   0.0s\n",
      "[CV] END .......C=0.1, epsilon=0.5, gamma=scale, kernel=poly; total time=   0.0s\n",
      "[CV] END .......C=0.1, epsilon=0.5, gamma=scale, kernel=poly; total time=   0.0s\n",
      "[CV] END ......C=0.1, epsilon=0.5, gamma=auto, kernel=linear; total time=   0.0s\n",
      "[CV] END ......C=0.1, epsilon=0.5, gamma=auto, kernel=linear; total time=   0.0s\n",
      "[CV] END ......C=0.1, epsilon=0.5, gamma=auto, kernel=linear; total time=   0.0s\n",
      "[CV] END ......C=0.1, epsilon=0.5, gamma=auto, kernel=linear; total time=   0.0s\n",
      "[CV] END ......C=0.1, epsilon=0.5, gamma=auto, kernel=linear; total time=   0.0s\n",
      "[CV] END ..........C=0.1, epsilon=1, gamma=scale, kernel=rbf; total time=   0.0s\n",
      "[CV] END ..........C=0.1, epsilon=1, gamma=scale, kernel=rbf; total time=   0.0s\n",
      "[CV] END ..........C=0.1, epsilon=1, gamma=scale, kernel=rbf; total time=   0.0s\n",
      "[CV] END ..........C=0.1, epsilon=1, gamma=scale, kernel=rbf; total time=   0.0s\n",
      "[CV] END .........C=0.1, epsilon=1, gamma=scale, kernel=poly; total time=   0.0s\n",
      "[CV] END .........C=0.1, epsilon=1, gamma=scale, kernel=poly; total time=   0.0s\n",
      "[CV] END .........C=0.1, epsilon=1, gamma=scale, kernel=poly; total time=   0.0s\n",
      "[CV] END .........C=0.1, epsilon=1, gamma=scale, kernel=poly; total time=   0.0s\n",
      "[CV] END .........C=1, epsilon=0.01, gamma=scale, kernel=rbf; total time=   0.1s\n",
      "[CV] END .........C=1, epsilon=0.01, gamma=scale, kernel=rbf; total time=   0.1s\n",
      "[CV] END ........C=1, epsilon=0.01, gamma=scale, kernel=poly; total time=   0.3s\n",
      "[CV] END ........C=1, epsilon=0.01, gamma=scale, kernel=poly; total time=   0.3s\n",
      "[CV] END ........C=1, epsilon=0.01, gamma=scale, kernel=poly; total time=   0.3s\n",
      "[CV] END ........C=1, epsilon=0.01, gamma=scale, kernel=poly; total time=   0.3s\n",
      "[CV] END ........C=1, epsilon=0.01, gamma=scale, kernel=poly; total time=   0.3s\n",
      "[CV] END .......C=1, epsilon=0.01, gamma=auto, kernel=linear; total time=   0.2s\n",
      "[CV] END ......C=10, epsilon=0.1, gamma=scale, kernel=linear; total time=   0.2s\n",
      "[CV] END ......C=10, epsilon=0.1, gamma=scale, kernel=linear; total time=   0.2s\n",
      "[CV] END ......C=10, epsilon=0.1, gamma=scale, kernel=linear; total time=   0.2s\n",
      "[CV] END .........C=10, epsilon=0.1, gamma=scale, kernel=rbf; total time=   0.1s\n",
      "[CV] END .........C=10, epsilon=0.1, gamma=scale, kernel=rbf; total time=   0.1s\n",
      "[CV] END .........C=10, epsilon=0.1, gamma=scale, kernel=rbf; total time=   0.1s\n",
      "[CV] END .........C=10, epsilon=0.1, gamma=scale, kernel=rbf; total time=   0.1s\n",
      "[CV] END .........C=10, epsilon=0.1, gamma=scale, kernel=rbf; total time=   0.1s\n",
      "[CV] END ........C=10, epsilon=0.1, gamma=scale, kernel=poly; total time=   0.5s\n",
      "[CV] END ........C=10, epsilon=0.1, gamma=scale, kernel=poly; total time=   0.5s\n",
      "[CV] END ........C=10, epsilon=0.1, gamma=scale, kernel=poly; total time=   0.5s\n",
      "[CV] END ........C=10, epsilon=0.1, gamma=scale, kernel=poly; total time=   0.5s\n",
      "[CV] END ........C=10, epsilon=0.1, gamma=scale, kernel=poly; total time=   0.4s\n",
      "[CV] END .......C=10, epsilon=0.1, gamma=auto, kernel=linear; total time=   0.2s\n",
      "[CV] END .......C=10, epsilon=0.1, gamma=auto, kernel=linear; total time=   0.2s\n",
      "[CV] END .......C=10, epsilon=0.1, gamma=auto, kernel=linear; total time=   0.2s\n",
      "[CV] END .......C=100, epsilon=0.01, gamma=scale, kernel=rbf; total time=   1.2s\n",
      "[CV] END .......C=100, epsilon=0.01, gamma=scale, kernel=rbf; total time=   0.9s\n",
      "[CV] END ......C=100, epsilon=0.01, gamma=scale, kernel=poly; total time=  17.2s\n",
      "[CV] END ......C=100, epsilon=0.01, gamma=scale, kernel=poly; total time=  11.1s\n",
      "[CV] END ......C=100, epsilon=0.01, gamma=scale, kernel=poly; total time=   9.7s\n",
      "[CV] END ......C=100, epsilon=0.01, gamma=scale, kernel=poly; total time=   8.5s\n",
      "[CV] END ......C=100, epsilon=0.01, gamma=scale, kernel=poly; total time=  11.4s\n",
      "[CV] END .....C=100, epsilon=0.01, gamma=auto, kernel=linear; total time=   2.7s\n",
      "[CV] END .....C=100, epsilon=0.01, gamma=auto, kernel=linear; total time=   2.8s\n",
      "[CV] END .....C=100, epsilon=0.01, gamma=auto, kernel=linear; total time=   2.6s\n",
      "[CV] END .....C=100, epsilon=0.01, gamma=auto, kernel=linear; total time=   2.9s\n",
      "[CV] END .....C=100, epsilon=0.01, gamma=auto, kernel=linear; total time=   2.9s\n",
      "[CV] END ........C=100, epsilon=0.01, gamma=auto, kernel=rbf; total time=   0.4s\n",
      "[CV] END ........C=100, epsilon=0.01, gamma=auto, kernel=rbf; total time=   0.4s\n",
      "[CV] END ........C=100, epsilon=0.01, gamma=auto, kernel=rbf; total time=   0.5s\n",
      "[CV] END ........C=100, epsilon=0.01, gamma=auto, kernel=rbf; total time=   0.4s\n",
      "[CV] END ....C=0.1, epsilon=0.01, gamma=scale, kernel=linear; total time=   0.1s\n",
      "[CV] END .......C=0.1, epsilon=0.01, gamma=scale, kernel=rbf; total time=   0.0s\n",
      "[CV] END .......C=0.1, epsilon=0.01, gamma=scale, kernel=rbf; total time=   0.0s\n",
      "[CV] END .......C=0.1, epsilon=0.01, gamma=scale, kernel=rbf; total time=   0.1s\n",
      "[CV] END .....C=0.1, epsilon=0.01, gamma=auto, kernel=linear; total time=   0.1s\n",
      "[CV] END .....C=0.1, epsilon=0.01, gamma=auto, kernel=linear; total time=   0.1s\n",
      "[CV] END ........C=0.1, epsilon=0.01, gamma=auto, kernel=rbf; total time=   0.1s\n",
      "[CV] END .......C=0.1, epsilon=0.01, gamma=auto, kernel=poly; total time=   0.1s\n",
      "[CV] END .......C=0.1, epsilon=0.01, gamma=auto, kernel=poly; total time=   0.1s\n",
      "[CV] END .......C=0.1, epsilon=0.01, gamma=auto, kernel=poly; total time=   0.1s\n",
      "[CV] END ......C=0.1, epsilon=0.1, gamma=auto, kernel=linear; total time=   0.0s\n",
      "[CV] END ......C=0.1, epsilon=0.1, gamma=auto, kernel=linear; total time=   0.0s\n",
      "[CV] END .........C=0.1, epsilon=0.1, gamma=auto, kernel=rbf; total time=   0.0s\n",
      "[CV] END .........C=0.1, epsilon=0.1, gamma=auto, kernel=rbf; total time=   0.0s\n",
      "[CV] END ........C=0.1, epsilon=0.5, gamma=scale, kernel=rbf; total time=   0.0s\n",
      "[CV] END ........C=0.1, epsilon=0.5, gamma=scale, kernel=rbf; total time=   0.0s\n",
      "[CV] END .......C=0.1, epsilon=0.5, gamma=scale, kernel=poly; total time=   0.0s\n",
      "[CV] END .......C=0.1, epsilon=0.5, gamma=scale, kernel=poly; total time=   0.0s\n",
      "[CV] END .........C=0.1, epsilon=0.5, gamma=auto, kernel=rbf; total time=   0.0s\n",
      "[CV] END .........C=0.1, epsilon=0.5, gamma=auto, kernel=rbf; total time=   0.0s\n",
      "[CV] END .........C=0.1, epsilon=0.5, gamma=auto, kernel=rbf; total time=   0.0s\n",
      "[CV] END .........C=0.1, epsilon=0.5, gamma=auto, kernel=rbf; total time=   0.0s\n",
      "[CV] END .....C=100, epsilon=0.1, gamma=scale, kernel=linear; total time=   1.0s\n",
      "[CV] END .....C=100, epsilon=0.1, gamma=scale, kernel=linear; total time=   1.0s\n",
      "[CV] END .....C=100, epsilon=0.1, gamma=scale, kernel=linear; total time=   1.1s\n",
      "[CV] END .....C=100, epsilon=0.1, gamma=scale, kernel=linear; total time=   1.1s\n",
      "[CV] END .....C=100, epsilon=0.1, gamma=scale, kernel=linear; total time=   0.9s\n",
      "[CV] END ........C=100, epsilon=0.1, gamma=scale, kernel=rbf; total time=   0.4s\n",
      "[CV] END ........C=100, epsilon=0.1, gamma=scale, kernel=rbf; total time=   0.3s\n",
      "[CV] END ........C=100, epsilon=0.1, gamma=scale, kernel=rbf; total time=   0.3s\n",
      "[CV] END ........C=100, epsilon=0.1, gamma=scale, kernel=rbf; total time=   0.3s\n",
      "[CV] END ........C=100, epsilon=0.1, gamma=scale, kernel=rbf; total time=   0.4s\n",
      "[CV] END ........C=100, epsilon=0.1, gamma=auto, kernel=poly; total time=   0.6s\n",
      "[CV] END ........C=100, epsilon=0.1, gamma=auto, kernel=poly; total time=   0.6s\n",
      "[CV] END ........C=100, epsilon=0.1, gamma=auto, kernel=poly; total time=   0.6s\n",
      "[CV] END ........C=100, epsilon=0.1, gamma=auto, kernel=poly; total time=   0.5s\n",
      "[CV] END .....C=100, epsilon=0.5, gamma=scale, kernel=linear; total time=   0.0s\n",
      "[CV] END .....C=100, epsilon=0.5, gamma=scale, kernel=linear; total time=   0.0s\n",
      "[CV] END .....C=100, epsilon=0.5, gamma=scale, kernel=linear; total time=   0.0s\n",
      "[CV] END .....C=100, epsilon=0.5, gamma=scale, kernel=linear; total time=   0.0s\n",
      "[CV] END .....C=100, epsilon=0.5, gamma=scale, kernel=linear; total time=   0.0s\n",
      "[CV] END ........C=100, epsilon=0.5, gamma=scale, kernel=rbf; total time=   0.0s\n",
      "[CV] END ........C=100, epsilon=0.5, gamma=scale, kernel=rbf; total time=   0.0s\n",
      "[CV] END ........C=100, epsilon=0.5, gamma=scale, kernel=rbf; total time=   0.0s\n",
      "[CV] END ........C=100, epsilon=0.5, gamma=scale, kernel=rbf; total time=   0.0s\n",
      "[CV] END ........C=100, epsilon=0.5, gamma=scale, kernel=rbf; total time=   0.0s\n",
      "[CV] END .......C=100, epsilon=0.5, gamma=scale, kernel=poly; total time=   0.0s\n",
      "[CV] END .......C=100, epsilon=0.5, gamma=scale, kernel=poly; total time=   0.0s\n",
      "[CV] END .......C=100, epsilon=0.5, gamma=scale, kernel=poly; total time=   0.0s\n",
      "[CV] END .......C=100, epsilon=0.5, gamma=scale, kernel=poly; total time=   0.0s\n",
      "[CV] END .......C=100, epsilon=0.5, gamma=scale, kernel=poly; total time=   0.0s\n",
      "[CV] END ......C=100, epsilon=0.5, gamma=auto, kernel=linear; total time=   0.0s\n",
      "[CV] END ......C=100, epsilon=0.5, gamma=auto, kernel=linear; total time=   0.0s\n",
      "[CV] END ......C=100, epsilon=0.5, gamma=auto, kernel=linear; total time=   0.0s\n",
      "[CV] END ......C=100, epsilon=0.5, gamma=auto, kernel=linear; total time=   0.0s\n",
      "[CV] END ......C=100, epsilon=0.5, gamma=auto, kernel=linear; total time=   0.0s\n",
      "[CV] END .........C=100, epsilon=0.5, gamma=auto, kernel=rbf; total time=   0.0s\n",
      "[CV] END .........C=100, epsilon=0.5, gamma=auto, kernel=rbf; total time=   0.0s\n",
      "[CV] END .........C=100, epsilon=0.5, gamma=auto, kernel=rbf; total time=   0.0s\n",
      "[CV] END .........C=100, epsilon=0.5, gamma=auto, kernel=rbf; total time=   0.0s\n",
      "[CV] END .........C=100, epsilon=0.5, gamma=auto, kernel=rbf; total time=   0.0s\n",
      "[CV] END ........C=100, epsilon=0.5, gamma=auto, kernel=poly; total time=   0.0s\n",
      "[CV] END ........C=100, epsilon=0.5, gamma=auto, kernel=poly; total time=   0.0s\n",
      "[CV] END ........C=100, epsilon=0.5, gamma=auto, kernel=poly; total time=   0.0s\n",
      "[CV] END ........C=100, epsilon=0.5, gamma=auto, kernel=poly; total time=   0.0s\n",
      "[CV] END ........C=100, epsilon=0.5, gamma=auto, kernel=poly; total time=   0.0s\n",
      "[CV] END .......C=100, epsilon=1, gamma=scale, kernel=linear; total time=   0.0s\n",
      "[CV] END .......C=100, epsilon=1, gamma=scale, kernel=linear; total time=   0.0s\n",
      "[CV] END .......C=100, epsilon=1, gamma=scale, kernel=linear; total time=   0.0s\n",
      "[CV] END .......C=100, epsilon=1, gamma=scale, kernel=linear; total time=   0.0s\n",
      "[CV] END .......C=100, epsilon=1, gamma=scale, kernel=linear; total time=   0.0s\n",
      "[CV] END ..........C=100, epsilon=1, gamma=scale, kernel=rbf; total time=   0.0s\n",
      "[CV] END ..........C=100, epsilon=1, gamma=scale, kernel=rbf; total time=   0.0s\n",
      "[CV] END ..........C=100, epsilon=1, gamma=scale, kernel=rbf; total time=   0.0s\n",
      "[CV] END ..........C=100, epsilon=1, gamma=scale, kernel=rbf; total time=   0.0s\n",
      "[CV] END ..........C=100, epsilon=1, gamma=scale, kernel=rbf; total time=   0.0s\n",
      "[CV] END .........C=100, epsilon=1, gamma=scale, kernel=poly; total time=   0.0s\n",
      "[CV] END .........C=100, epsilon=1, gamma=scale, kernel=poly; total time=   0.0s\n",
      "[CV] END .........C=100, epsilon=1, gamma=scale, kernel=poly; total time=   0.0s\n",
      "[CV] END .........C=100, epsilon=1, gamma=scale, kernel=poly; total time=   0.0s\n",
      "[CV] END .........C=100, epsilon=1, gamma=scale, kernel=poly; total time=   0.0s\n",
      "[CV] END ........C=100, epsilon=1, gamma=auto, kernel=linear; total time=   0.0s\n",
      "[CV] END ........C=100, epsilon=1, gamma=auto, kernel=linear; total time=   0.0s\n",
      "[CV] END ........C=100, epsilon=1, gamma=auto, kernel=linear; total time=   0.0s\n",
      "[CV] END ........C=100, epsilon=1, gamma=auto, kernel=linear; total time=   0.0s\n",
      "[CV] END ........C=100, epsilon=1, gamma=auto, kernel=linear; total time=   0.0s\n",
      "[CV] END ...........C=100, epsilon=1, gamma=auto, kernel=rbf; total time=   0.0s\n",
      "[CV] END ...........C=100, epsilon=1, gamma=auto, kernel=rbf; total time=   0.0s\n",
      "[CV] END ...........C=100, epsilon=1, gamma=auto, kernel=rbf; total time=   0.0s\n",
      "[CV] END ...........C=100, epsilon=1, gamma=auto, kernel=rbf; total time=   0.0s\n",
      "[CV] END ...........C=100, epsilon=1, gamma=auto, kernel=rbf; total time=   0.0s\n",
      "[CV] END ..........C=100, epsilon=1, gamma=auto, kernel=poly; total time=   0.0s\n",
      "[CV] END ..........C=100, epsilon=1, gamma=auto, kernel=poly; total time=   0.0s\n",
      "[CV] END ..........C=100, epsilon=1, gamma=auto, kernel=poly; total time=   0.0s\n",
      "[CV] END ..........C=100, epsilon=1, gamma=auto, kernel=poly; total time=   0.0s\n",
      "[CV] END ..........C=100, epsilon=1, gamma=auto, kernel=poly; total time=   0.0s\n",
      "[CV] END ....C=0.1, epsilon=0.01, gamma=scale, kernel=linear; total time=   0.1s\n",
      "[CV] END ....C=0.1, epsilon=0.01, gamma=scale, kernel=linear; total time=   0.1s\n",
      "[CV] END ......C=0.1, epsilon=0.01, gamma=scale, kernel=poly; total time=   0.1s\n",
      "[CV] END .....C=0.1, epsilon=0.01, gamma=auto, kernel=linear; total time=   0.1s\n",
      "[CV] END .....C=0.1, epsilon=0.01, gamma=auto, kernel=linear; total time=   0.1s\n",
      "[CV] END .....C=0.1, epsilon=0.01, gamma=auto, kernel=linear; total time=   0.1s\n",
      "[CV] END ........C=0.1, epsilon=0.1, gamma=scale, kernel=rbf; total time=   0.0s\n",
      "[CV] END ........C=0.1, epsilon=0.1, gamma=scale, kernel=rbf; total time=   0.0s\n",
      "[CV] END ........C=0.1, epsilon=0.1, gamma=scale, kernel=rbf; total time=   0.0s\n",
      "[CV] END ........C=0.1, epsilon=0.1, gamma=scale, kernel=rbf; total time=   0.0s\n",
      "[CV] END .......C=0.1, epsilon=0.1, gamma=scale, kernel=poly; total time=   0.1s\n",
      "[CV] END .......C=0.1, epsilon=0.1, gamma=scale, kernel=poly; total time=   0.0s\n",
      "[CV] END .......C=0.1, epsilon=0.1, gamma=scale, kernel=poly; total time=   0.1s\n",
      "[CV] END .......C=0.1, epsilon=0.1, gamma=scale, kernel=poly; total time=   0.0s\n",
      "[CV] END ........C=0.1, epsilon=0.1, gamma=auto, kernel=poly; total time=   0.0s\n",
      "[CV] END ........C=0.1, epsilon=0.1, gamma=auto, kernel=poly; total time=   0.0s\n",
      "[CV] END ........C=0.1, epsilon=0.1, gamma=auto, kernel=poly; total time=   0.0s\n",
      "[CV] END ........C=0.1, epsilon=0.1, gamma=auto, kernel=poly; total time=   0.0s\n",
      "[CV] END .........C=1, epsilon=0.01, gamma=scale, kernel=rbf; total time=   0.1s\n",
      "[CV] END .........C=1, epsilon=0.01, gamma=scale, kernel=rbf; total time=   0.1s\n",
      "[CV] END ........C=1, epsilon=0.01, gamma=scale, kernel=poly; total time=   0.3s\n",
      "[CV] END ........C=1, epsilon=0.01, gamma=scale, kernel=poly; total time=   0.3s\n",
      "[CV] END ........C=1, epsilon=0.01, gamma=scale, kernel=poly; total time=   0.3s\n",
      "[CV] END ........C=1, epsilon=0.01, gamma=scale, kernel=poly; total time=   0.3s\n",
      "[CV] END ........C=1, epsilon=0.01, gamma=scale, kernel=poly; total time=   0.3s\n",
      "[CV] END .......C=1, epsilon=0.01, gamma=auto, kernel=linear; total time=   0.2s\n",
      "[CV] END .........C=10, epsilon=0.01, gamma=auto, kernel=rbf; total time=   0.2s\n",
      "[CV] END ........C=10, epsilon=0.01, gamma=auto, kernel=poly; total time=   0.4s\n",
      "[CV] END .......C=0.1, epsilon=1, gamma=scale, kernel=linear; total time=   0.0s\n",
      "[CV] END .......C=0.1, epsilon=1, gamma=scale, kernel=linear; total time=   0.0s\n",
      "[CV] END .......C=0.1, epsilon=1, gamma=scale, kernel=linear; total time=   0.0s\n",
      "[CV] END ..........C=0.1, epsilon=1, gamma=scale, kernel=rbf; total time=   0.0s\n",
      "[CV] END .........C=0.1, epsilon=1, gamma=scale, kernel=poly; total time=   0.0s\n",
      "[CV] END ........C=0.1, epsilon=1, gamma=auto, kernel=linear; total time=   0.0s\n",
      "[CV] END ........C=0.1, epsilon=1, gamma=auto, kernel=linear; total time=   0.0s\n",
      "[CV] END ........C=0.1, epsilon=1, gamma=auto, kernel=linear; total time=   0.0s\n",
      "[CV] END ..........C=0.1, epsilon=1, gamma=auto, kernel=poly; total time=   0.0s\n",
      "[CV] END ..........C=0.1, epsilon=1, gamma=auto, kernel=poly; total time=   0.0s\n",
      "[CV] END ..........C=0.1, epsilon=1, gamma=auto, kernel=poly; total time=   0.0s\n",
      "[CV] END ..........C=0.1, epsilon=1, gamma=auto, kernel=poly; total time=   0.0s\n",
      "[CV] END ..........C=1, epsilon=0.01, gamma=auto, kernel=rbf; total time=   0.1s\n",
      "[CV] END .........C=1, epsilon=0.01, gamma=auto, kernel=poly; total time=   0.1s\n",
      "[CV] END .........C=1, epsilon=0.01, gamma=auto, kernel=poly; total time=   0.1s\n",
      "[CV] END .........C=1, epsilon=0.01, gamma=auto, kernel=poly; total time=   0.1s\n",
      "[CV] END .........C=1, epsilon=0.01, gamma=auto, kernel=poly; total time=   0.1s\n",
      "[CV] END .........C=1, epsilon=0.01, gamma=auto, kernel=poly; total time=   0.1s\n",
      "[CV] END .......C=1, epsilon=0.1, gamma=scale, kernel=linear; total time=   0.1s\n",
      "[CV] END .......C=1, epsilon=0.1, gamma=scale, kernel=linear; total time=   0.1s\n",
      "[CV] END .......C=1, epsilon=0.1, gamma=scale, kernel=linear; total time=   0.1s\n",
      "[CV] END .......C=1, epsilon=0.1, gamma=scale, kernel=linear; total time=   0.1s\n",
      "[CV] END .......C=1, epsilon=0.1, gamma=scale, kernel=linear; total time=   0.1s\n",
      "[CV] END ..........C=1, epsilon=0.1, gamma=scale, kernel=rbf; total time=   0.1s\n",
      "[CV] END ..........C=1, epsilon=0.1, gamma=scale, kernel=rbf; total time=   0.1s\n",
      "[CV] END ..........C=1, epsilon=0.1, gamma=scale, kernel=rbf; total time=   0.1s\n",
      "[CV] END ..........C=1, epsilon=0.1, gamma=scale, kernel=rbf; total time=   0.1s\n",
      "[CV] END ..........C=1, epsilon=0.1, gamma=scale, kernel=rbf; total time=   0.1s\n",
      "[CV] END ..........C=1, epsilon=0.1, gamma=auto, kernel=poly; total time=   0.0s\n",
      "[CV] END ..........C=1, epsilon=0.1, gamma=auto, kernel=poly; total time=   0.1s\n",
      "[CV] END ..........C=1, epsilon=0.1, gamma=auto, kernel=poly; total time=   0.0s\n",
      "[CV] END ..........C=1, epsilon=0.1, gamma=auto, kernel=poly; total time=   0.1s\n",
      "[CV] END .......C=1, epsilon=0.5, gamma=scale, kernel=linear; total time=   0.0s\n",
      "[CV] END .......C=1, epsilon=0.5, gamma=scale, kernel=linear; total time=   0.0s\n",
      "[CV] END .......C=1, epsilon=0.5, gamma=scale, kernel=linear; total time=   0.0s\n",
      "[CV] END .......C=1, epsilon=0.5, gamma=scale, kernel=linear; total time=   0.0s\n",
      "[CV] END ...........C=1, epsilon=0.5, gamma=auto, kernel=rbf; total time=   0.0s\n",
      "[CV] END ...........C=1, epsilon=0.5, gamma=auto, kernel=rbf; total time=   0.0s\n",
      "[CV] END ...........C=1, epsilon=0.5, gamma=auto, kernel=rbf; total time=   0.0s\n",
      "[CV] END ...........C=1, epsilon=0.5, gamma=auto, kernel=rbf; total time=   0.0s\n",
      "[CV] END ...........C=1, epsilon=0.5, gamma=auto, kernel=rbf; total time=   0.0s\n",
      "[CV] END ..........C=1, epsilon=0.5, gamma=auto, kernel=poly; total time=   0.0s\n",
      "[CV] END ..........C=1, epsilon=0.5, gamma=auto, kernel=poly; total time=   0.0s\n",
      "[CV] END ..........C=1, epsilon=0.5, gamma=auto, kernel=poly; total time=   0.0s\n",
      "[CV] END ............C=1, epsilon=1, gamma=scale, kernel=rbf; total time=   0.0s\n",
      "[CV] END ............C=1, epsilon=1, gamma=scale, kernel=rbf; total time=   0.0s\n",
      "[CV] END ............C=1, epsilon=1, gamma=scale, kernel=rbf; total time=   0.0s\n",
      "[CV] END ............C=1, epsilon=1, gamma=scale, kernel=rbf; total time=   0.0s\n",
      "[CV] END ...........C=1, epsilon=1, gamma=scale, kernel=poly; total time=   0.0s\n",
      "[CV] END ...........C=1, epsilon=1, gamma=scale, kernel=poly; total time=   0.0s\n",
      "[CV] END ...........C=1, epsilon=1, gamma=scale, kernel=poly; total time=   0.0s\n",
      "[CV] END ...........C=1, epsilon=1, gamma=scale, kernel=poly; total time=   0.0s\n",
      "[CV] END .....C=10, epsilon=0.01, gamma=scale, kernel=linear; total time=   0.6s\n",
      "[CV] END .....C=10, epsilon=0.01, gamma=scale, kernel=linear; total time=   0.7s\n",
      "[CV] END .....C=10, epsilon=0.01, gamma=scale, kernel=linear; total time=   0.7s\n",
      "[CV] END .....C=10, epsilon=0.01, gamma=scale, kernel=linear; total time=   0.7s\n",
      "[CV] END .....C=10, epsilon=0.01, gamma=scale, kernel=linear; total time=   0.7s\n",
      "[CV] END ........C=10, epsilon=0.01, gamma=scale, kernel=rbf; total time=   0.2s\n",
      "[CV] END ........C=10, epsilon=0.01, gamma=scale, kernel=rbf; total time=   0.2s\n",
      "[CV] END ........C=10, epsilon=0.01, gamma=scale, kernel=rbf; total time=   0.2s\n",
      "[CV] END .........C=10, epsilon=0.1, gamma=auto, kernel=poly; total time=   0.1s\n",
      "[CV] END .........C=10, epsilon=0.1, gamma=auto, kernel=poly; total time=   0.1s\n",
      "[CV] END .........C=10, epsilon=0.1, gamma=auto, kernel=poly; total time=   0.1s\n",
      "[CV] END .........C=10, epsilon=0.1, gamma=auto, kernel=poly; total time=   0.1s\n",
      "[CV] END ......C=10, epsilon=0.5, gamma=scale, kernel=linear; total time=   0.0s\n",
      "[CV] END ......C=10, epsilon=0.5, gamma=scale, kernel=linear; total time=   0.0s\n",
      "[CV] END ......C=10, epsilon=0.5, gamma=scale, kernel=linear; total time=   0.0s\n",
      "[CV] END ......C=10, epsilon=0.5, gamma=scale, kernel=linear; total time=   0.0s\n",
      "[CV] END ......C=10, epsilon=0.5, gamma=scale, kernel=linear; total time=   0.0s\n",
      "[CV] END .........C=10, epsilon=0.5, gamma=scale, kernel=rbf; total time=   0.0s\n",
      "[CV] END .........C=10, epsilon=0.5, gamma=scale, kernel=rbf; total time=   0.0s\n",
      "[CV] END .........C=10, epsilon=0.5, gamma=scale, kernel=rbf; total time=   0.0s\n",
      "[CV] END .........C=10, epsilon=0.5, gamma=scale, kernel=rbf; total time=   0.0s\n",
      "[CV] END .........C=10, epsilon=0.5, gamma=scale, kernel=rbf; total time=   0.0s\n",
      "[CV] END ........C=10, epsilon=0.5, gamma=scale, kernel=poly; total time=   0.0s\n",
      "[CV] END ........C=10, epsilon=0.5, gamma=scale, kernel=poly; total time=   0.0s\n",
      "[CV] END ........C=10, epsilon=0.5, gamma=scale, kernel=poly; total time=   0.0s\n",
      "[CV] END ........C=10, epsilon=0.5, gamma=scale, kernel=poly; total time=   0.0s\n",
      "[CV] END ........C=10, epsilon=0.5, gamma=scale, kernel=poly; total time=   0.0s\n",
      "[CV] END .......C=10, epsilon=0.5, gamma=auto, kernel=linear; total time=   0.0s\n",
      "[CV] END .......C=10, epsilon=0.5, gamma=auto, kernel=linear; total time=   0.0s\n",
      "[CV] END .......C=10, epsilon=0.5, gamma=auto, kernel=linear; total time=   0.0s\n",
      "[CV] END .......C=10, epsilon=0.5, gamma=auto, kernel=linear; total time=   0.0s\n",
      "[CV] END .......C=10, epsilon=0.5, gamma=auto, kernel=linear; total time=   0.0s\n",
      "[CV] END ..........C=10, epsilon=0.5, gamma=auto, kernel=rbf; total time=   0.0s\n",
      "[CV] END ..........C=10, epsilon=0.5, gamma=auto, kernel=rbf; total time=   0.0s\n",
      "[CV] END ..........C=10, epsilon=0.5, gamma=auto, kernel=rbf; total time=   0.0s\n",
      "[CV] END ..........C=10, epsilon=0.5, gamma=auto, kernel=rbf; total time=   0.0s\n",
      "[CV] END ..........C=10, epsilon=0.5, gamma=auto, kernel=rbf; total time=   0.0s\n",
      "[CV] END .........C=10, epsilon=0.5, gamma=auto, kernel=poly; total time=   0.0s\n",
      "[CV] END .........C=10, epsilon=0.5, gamma=auto, kernel=poly; total time=   0.0s\n",
      "[CV] END .........C=10, epsilon=0.5, gamma=auto, kernel=poly; total time=   0.0s\n",
      "[CV] END .........C=10, epsilon=0.5, gamma=auto, kernel=poly; total time=   0.0s\n",
      "[CV] END .........C=10, epsilon=0.5, gamma=auto, kernel=poly; total time=   0.0s\n",
      "[CV] END ........C=10, epsilon=1, gamma=scale, kernel=linear; total time=   0.0s\n",
      "[CV] END ........C=10, epsilon=1, gamma=scale, kernel=linear; total time=   0.0s\n",
      "[CV] END ........C=10, epsilon=1, gamma=scale, kernel=linear; total time=   0.0s\n",
      "[CV] END ........C=10, epsilon=1, gamma=scale, kernel=linear; total time=   0.0s\n",
      "[CV] END ........C=10, epsilon=1, gamma=scale, kernel=linear; total time=   0.0s\n",
      "[CV] END ...........C=10, epsilon=1, gamma=scale, kernel=rbf; total time=   0.0s\n",
      "[CV] END ...........C=10, epsilon=1, gamma=scale, kernel=rbf; total time=   0.0s\n",
      "[CV] END ...........C=10, epsilon=1, gamma=scale, kernel=rbf; total time=   0.0s"
     ]
    },
    {
     "data": {
      "text/html": [
       "<style>#sk-container-id-12 {color: black;background-color: white;}#sk-container-id-12 pre{padding: 0;}#sk-container-id-12 div.sk-toggleable {background-color: white;}#sk-container-id-12 label.sk-toggleable__label {cursor: pointer;display: block;width: 100%;margin-bottom: 0;padding: 0.3em;box-sizing: border-box;text-align: center;}#sk-container-id-12 label.sk-toggleable__label-arrow:before {content: \"▸\";float: left;margin-right: 0.25em;color: #696969;}#sk-container-id-12 label.sk-toggleable__label-arrow:hover:before {color: black;}#sk-container-id-12 div.sk-estimator:hover label.sk-toggleable__label-arrow:before {color: black;}#sk-container-id-12 div.sk-toggleable__content {max-height: 0;max-width: 0;overflow: hidden;text-align: left;background-color: #f0f8ff;}#sk-container-id-12 div.sk-toggleable__content pre {margin: 0.2em;color: black;border-radius: 0.25em;background-color: #f0f8ff;}#sk-container-id-12 input.sk-toggleable__control:checked~div.sk-toggleable__content {max-height: 200px;max-width: 100%;overflow: auto;}#sk-container-id-12 input.sk-toggleable__control:checked~label.sk-toggleable__label-arrow:before {content: \"▾\";}#sk-container-id-12 div.sk-estimator input.sk-toggleable__control:checked~label.sk-toggleable__label {background-color: #d4ebff;}#sk-container-id-12 div.sk-label input.sk-toggleable__control:checked~label.sk-toggleable__label {background-color: #d4ebff;}#sk-container-id-12 input.sk-hidden--visually {border: 0;clip: rect(1px 1px 1px 1px);clip: rect(1px, 1px, 1px, 1px);height: 1px;margin: -1px;overflow: hidden;padding: 0;position: absolute;width: 1px;}#sk-container-id-12 div.sk-estimator {font-family: monospace;background-color: #f0f8ff;border: 1px dotted black;border-radius: 0.25em;box-sizing: border-box;margin-bottom: 0.5em;}#sk-container-id-12 div.sk-estimator:hover {background-color: #d4ebff;}#sk-container-id-12 div.sk-parallel-item::after {content: \"\";width: 100%;border-bottom: 1px solid gray;flex-grow: 1;}#sk-container-id-12 div.sk-label:hover label.sk-toggleable__label {background-color: #d4ebff;}#sk-container-id-12 div.sk-serial::before {content: \"\";position: absolute;border-left: 1px solid gray;box-sizing: border-box;top: 0;bottom: 0;left: 50%;z-index: 0;}#sk-container-id-12 div.sk-serial {display: flex;flex-direction: column;align-items: center;background-color: white;padding-right: 0.2em;padding-left: 0.2em;position: relative;}#sk-container-id-12 div.sk-item {position: relative;z-index: 1;}#sk-container-id-12 div.sk-parallel {display: flex;align-items: stretch;justify-content: center;background-color: white;position: relative;}#sk-container-id-12 div.sk-item::before, #sk-container-id-12 div.sk-parallel-item::before {content: \"\";position: absolute;border-left: 1px solid gray;box-sizing: border-box;top: 0;bottom: 0;left: 50%;z-index: -1;}#sk-container-id-12 div.sk-parallel-item {display: flex;flex-direction: column;z-index: 1;position: relative;background-color: white;}#sk-container-id-12 div.sk-parallel-item:first-child::after {align-self: flex-end;width: 50%;}#sk-container-id-12 div.sk-parallel-item:last-child::after {align-self: flex-start;width: 50%;}#sk-container-id-12 div.sk-parallel-item:only-child::after {width: 0;}#sk-container-id-12 div.sk-dashed-wrapped {border: 1px dashed gray;margin: 0 0.4em 0.5em 0.4em;box-sizing: border-box;padding-bottom: 0.4em;background-color: white;}#sk-container-id-12 div.sk-label label {font-family: monospace;font-weight: bold;display: inline-block;line-height: 1.2em;}#sk-container-id-12 div.sk-label-container {text-align: center;}#sk-container-id-12 div.sk-container {/* jupyter's `normalize.less` sets `[hidden] { display: none; }` but bootstrap.min.css set `[hidden] { display: none !important; }` so we also need the `!important` here to be able to override the default hidden behavior on the sphinx rendered scikit-learn.org. See: https://github.com/scikit-learn/scikit-learn/issues/21755 */display: inline-block !important;position: relative;}#sk-container-id-12 div.sk-text-repr-fallback {display: none;}</style><div id=\"sk-container-id-12\" class=\"sk-top-container\"><div class=\"sk-text-repr-fallback\"><pre>GridSearchCV(cv=5, estimator=SVR(), n_jobs=-1,\n",
       "             param_grid={&#x27;C&#x27;: [0.1, 1, 10, 100], &#x27;epsilon&#x27;: [0.01, 0.1, 0.5, 1],\n",
       "                         &#x27;gamma&#x27;: [&#x27;scale&#x27;, &#x27;auto&#x27;],\n",
       "                         &#x27;kernel&#x27;: [&#x27;linear&#x27;, &#x27;rbf&#x27;, &#x27;poly&#x27;]},\n",
       "             scoring=&#x27;r2&#x27;, verbose=2)</pre><b>In a Jupyter environment, please rerun this cell to show the HTML representation or trust the notebook. <br />On GitHub, the HTML representation is unable to render, please try loading this page with nbviewer.org.</b></div><div class=\"sk-container\" hidden><div class=\"sk-item sk-dashed-wrapped\"><div class=\"sk-label-container\"><div class=\"sk-label sk-toggleable\"><input class=\"sk-toggleable__control sk-hidden--visually\" id=\"sk-estimator-id-44\" type=\"checkbox\" ><label for=\"sk-estimator-id-44\" class=\"sk-toggleable__label sk-toggleable__label-arrow\">GridSearchCV</label><div class=\"sk-toggleable__content\"><pre>GridSearchCV(cv=5, estimator=SVR(), n_jobs=-1,\n",
       "             param_grid={&#x27;C&#x27;: [0.1, 1, 10, 100], &#x27;epsilon&#x27;: [0.01, 0.1, 0.5, 1],\n",
       "                         &#x27;gamma&#x27;: [&#x27;scale&#x27;, &#x27;auto&#x27;],\n",
       "                         &#x27;kernel&#x27;: [&#x27;linear&#x27;, &#x27;rbf&#x27;, &#x27;poly&#x27;]},\n",
       "             scoring=&#x27;r2&#x27;, verbose=2)</pre></div></div></div><div class=\"sk-parallel\"><div class=\"sk-parallel-item\"><div class=\"sk-item\"><div class=\"sk-label-container\"><div class=\"sk-label sk-toggleable\"><input class=\"sk-toggleable__control sk-hidden--visually\" id=\"sk-estimator-id-45\" type=\"checkbox\" ><label for=\"sk-estimator-id-45\" class=\"sk-toggleable__label sk-toggleable__label-arrow\">estimator: SVR</label><div class=\"sk-toggleable__content\"><pre>SVR()</pre></div></div></div><div class=\"sk-serial\"><div class=\"sk-item\"><div class=\"sk-estimator sk-toggleable\"><input class=\"sk-toggleable__control sk-hidden--visually\" id=\"sk-estimator-id-46\" type=\"checkbox\" ><label for=\"sk-estimator-id-46\" class=\"sk-toggleable__label sk-toggleable__label-arrow\">SVR</label><div class=\"sk-toggleable__content\"><pre>SVR()</pre></div></div></div></div></div></div></div></div></div></div>"
      ],
      "text/plain": [
       "GridSearchCV(cv=5, estimator=SVR(), n_jobs=-1,\n",
       "             param_grid={'C': [0.1, 1, 10, 100], 'epsilon': [0.01, 0.1, 0.5, 1],\n",
       "                         'gamma': ['scale', 'auto'],\n",
       "                         'kernel': ['linear', 'rbf', 'poly']},\n",
       "             scoring='r2', verbose=2)"
      ]
     },
     "execution_count": 112,
     "metadata": {},
     "output_type": "execute_result"
    }
   ],
   "source": [
    "from sklearn.model_selection import GridSearchCV\n",
    "\n",
    "param_grid = {\n",
    "    'kernel': ['linear', 'rbf', 'poly'],   \n",
    "    'C': [0.1, 1, 10, 100],               \n",
    "    'gamma': ['scale', 'auto'],            \n",
    "    'epsilon': [0.01, 0.1, 0.5, 1]         \n",
    "}\n",
    "\n",
    "grid_search = GridSearchCV(\n",
    "    estimator=SVR(),\n",
    "    param_grid=param_grid,\n",
    "    cv=5,\n",
    "    scoring='r2',\n",
    "    n_jobs=-1,\n",
    "    verbose=2\n",
    ")\n",
    "\n",
    "grid_search.fit(X_train, y_train)  "
   ]
  },
  {
   "cell_type": "code",
   "execution_count": 113,
   "metadata": {
    "execution": {
     "iopub.execute_input": "2025-09-21T15:44:13.544927Z",
     "iopub.status.busy": "2025-09-21T15:44:13.544711Z",
     "iopub.status.idle": "2025-09-21T15:44:13.550591Z",
     "shell.execute_reply": "2025-09-21T15:44:13.549329Z",
     "shell.execute_reply.started": "2025-09-21T15:44:13.544910Z"
    },
    "trusted": true
   },
   "outputs": [
    {
     "name": "stdout",
     "output_type": "stream",
     "text": [
      "Best parameters: {'C': 10, 'epsilon': 0.01, 'gamma': 'auto', 'kernel': 'rbf'}\n",
      "Best R2 score: 0.829096211333779\n"
     ]
    }
   ],
   "source": [
    "print(\"Best parameters:\", grid_search.best_params_)\n",
    "print(\"Best R2 score:\", grid_search.best_score_)"
   ]
  },
  {
   "cell_type": "code",
   "execution_count": 114,
   "metadata": {
    "execution": {
     "iopub.execute_input": "2025-09-21T15:44:13.552052Z",
     "iopub.status.busy": "2025-09-21T15:44:13.551747Z",
     "iopub.status.idle": "2025-09-21T15:44:13.575113Z",
     "shell.execute_reply": "2025-09-21T15:44:13.574294Z",
     "shell.execute_reply.started": "2025-09-21T15:44:13.552028Z"
    },
    "trusted": true
   },
   "outputs": [
    {
     "data": {
      "text/html": [
       "<style>#sk-container-id-13 {color: black;background-color: white;}#sk-container-id-13 pre{padding: 0;}#sk-container-id-13 div.sk-toggleable {background-color: white;}#sk-container-id-13 label.sk-toggleable__label {cursor: pointer;display: block;width: 100%;margin-bottom: 0;padding: 0.3em;box-sizing: border-box;text-align: center;}#sk-container-id-13 label.sk-toggleable__label-arrow:before {content: \"▸\";float: left;margin-right: 0.25em;color: #696969;}#sk-container-id-13 label.sk-toggleable__label-arrow:hover:before {color: black;}#sk-container-id-13 div.sk-estimator:hover label.sk-toggleable__label-arrow:before {color: black;}#sk-container-id-13 div.sk-toggleable__content {max-height: 0;max-width: 0;overflow: hidden;text-align: left;background-color: #f0f8ff;}#sk-container-id-13 div.sk-toggleable__content pre {margin: 0.2em;color: black;border-radius: 0.25em;background-color: #f0f8ff;}#sk-container-id-13 input.sk-toggleable__control:checked~div.sk-toggleable__content {max-height: 200px;max-width: 100%;overflow: auto;}#sk-container-id-13 input.sk-toggleable__control:checked~label.sk-toggleable__label-arrow:before {content: \"▾\";}#sk-container-id-13 div.sk-estimator input.sk-toggleable__control:checked~label.sk-toggleable__label {background-color: #d4ebff;}#sk-container-id-13 div.sk-label input.sk-toggleable__control:checked~label.sk-toggleable__label {background-color: #d4ebff;}#sk-container-id-13 input.sk-hidden--visually {border: 0;clip: rect(1px 1px 1px 1px);clip: rect(1px, 1px, 1px, 1px);height: 1px;margin: -1px;overflow: hidden;padding: 0;position: absolute;width: 1px;}#sk-container-id-13 div.sk-estimator {font-family: monospace;background-color: #f0f8ff;border: 1px dotted black;border-radius: 0.25em;box-sizing: border-box;margin-bottom: 0.5em;}#sk-container-id-13 div.sk-estimator:hover {background-color: #d4ebff;}#sk-container-id-13 div.sk-parallel-item::after {content: \"\";width: 100%;border-bottom: 1px solid gray;flex-grow: 1;}#sk-container-id-13 div.sk-label:hover label.sk-toggleable__label {background-color: #d4ebff;}#sk-container-id-13 div.sk-serial::before {content: \"\";position: absolute;border-left: 1px solid gray;box-sizing: border-box;top: 0;bottom: 0;left: 50%;z-index: 0;}#sk-container-id-13 div.sk-serial {display: flex;flex-direction: column;align-items: center;background-color: white;padding-right: 0.2em;padding-left: 0.2em;position: relative;}#sk-container-id-13 div.sk-item {position: relative;z-index: 1;}#sk-container-id-13 div.sk-parallel {display: flex;align-items: stretch;justify-content: center;background-color: white;position: relative;}#sk-container-id-13 div.sk-item::before, #sk-container-id-13 div.sk-parallel-item::before {content: \"\";position: absolute;border-left: 1px solid gray;box-sizing: border-box;top: 0;bottom: 0;left: 50%;z-index: -1;}#sk-container-id-13 div.sk-parallel-item {display: flex;flex-direction: column;z-index: 1;position: relative;background-color: white;}#sk-container-id-13 div.sk-parallel-item:first-child::after {align-self: flex-end;width: 50%;}#sk-container-id-13 div.sk-parallel-item:last-child::after {align-self: flex-start;width: 50%;}#sk-container-id-13 div.sk-parallel-item:only-child::after {width: 0;}#sk-container-id-13 div.sk-dashed-wrapped {border: 1px dashed gray;margin: 0 0.4em 0.5em 0.4em;box-sizing: border-box;padding-bottom: 0.4em;background-color: white;}#sk-container-id-13 div.sk-label label {font-family: monospace;font-weight: bold;display: inline-block;line-height: 1.2em;}#sk-container-id-13 div.sk-label-container {text-align: center;}#sk-container-id-13 div.sk-container {/* jupyter's `normalize.less` sets `[hidden] { display: none; }` but bootstrap.min.css set `[hidden] { display: none !important; }` so we also need the `!important` here to be able to override the default hidden behavior on the sphinx rendered scikit-learn.org. See: https://github.com/scikit-learn/scikit-learn/issues/21755 */display: inline-block !important;position: relative;}#sk-container-id-13 div.sk-text-repr-fallback {display: none;}</style><div id=\"sk-container-id-13\" class=\"sk-top-container\"><div class=\"sk-text-repr-fallback\"><pre>SVR(C=10, epsilon=0.01, gamma=&#x27;auto&#x27;)</pre><b>In a Jupyter environment, please rerun this cell to show the HTML representation or trust the notebook. <br />On GitHub, the HTML representation is unable to render, please try loading this page with nbviewer.org.</b></div><div class=\"sk-container\" hidden><div class=\"sk-item\"><div class=\"sk-estimator sk-toggleable\"><input class=\"sk-toggleable__control sk-hidden--visually\" id=\"sk-estimator-id-47\" type=\"checkbox\" checked><label for=\"sk-estimator-id-47\" class=\"sk-toggleable__label sk-toggleable__label-arrow\">SVR</label><div class=\"sk-toggleable__content\"><pre>SVR(C=10, epsilon=0.01, gamma=&#x27;auto&#x27;)</pre></div></div></div></div></div>"
      ],
      "text/plain": [
       "SVR(C=10, epsilon=0.01, gamma='auto')"
      ]
     },
     "execution_count": 114,
     "metadata": {},
     "output_type": "execute_result"
    }
   ],
   "source": [
    "model = SVR(\n",
    "**grid_search.best_params_\n",
    ")\n",
    "model"
   ]
  },
  {
   "cell_type": "code",
   "execution_count": 115,
   "metadata": {
    "execution": {
     "iopub.execute_input": "2025-09-21T15:44:13.576227Z",
     "iopub.status.busy": "2025-09-21T15:44:13.575912Z",
     "iopub.status.idle": "2025-09-21T15:44:13.778041Z",
     "shell.execute_reply": "2025-09-21T15:44:13.777100Z",
     "shell.execute_reply.started": "2025-09-21T15:44:13.576206Z"
    },
    "trusted": true
   },
   "outputs": [
    {
     "data": {
      "text/plain": [
       "(0.8552906364542058, 0.7879987651372451)"
      ]
     },
     "execution_count": 115,
     "metadata": {},
     "output_type": "execute_result"
    }
   ],
   "source": [
    "model.fit(X_train, y_train)\n",
    "model.score(X_train, y_train), model.score(X_test, y_test)"
   ]
  },
  {
   "cell_type": "markdown",
   "metadata": {},
   "source": [
    "## training pipeline"
   ]
  },
  {
   "cell_type": "code",
   "execution_count": 119,
   "metadata": {
    "execution": {
     "iopub.execute_input": "2025-09-21T15:44:42.441801Z",
     "iopub.status.busy": "2025-09-21T15:44:42.441454Z",
     "iopub.status.idle": "2025-09-21T15:44:42.596880Z",
     "shell.execute_reply": "2025-09-21T15:44:42.595830Z",
     "shell.execute_reply.started": "2025-09-21T15:44:42.441780Z"
    },
    "trusted": true
   },
   "outputs": [
    {
     "name": "stderr",
     "output_type": "stream",
     "text": [
      "/usr/local/lib/python3.11/dist-packages/sklearn/utils/validation.py:1143: DataConversionWarning: A column-vector y was passed when a 1d array was expected. Please change the shape of y to (n_samples, ), for example using ravel().\n",
      "  y = column_or_1d(y, warn=True)\n"
     ]
    },
    {
     "data": {
      "text/html": [
       "<style>#sk-container-id-15 {color: black;background-color: white;}#sk-container-id-15 pre{padding: 0;}#sk-container-id-15 div.sk-toggleable {background-color: white;}#sk-container-id-15 label.sk-toggleable__label {cursor: pointer;display: block;width: 100%;margin-bottom: 0;padding: 0.3em;box-sizing: border-box;text-align: center;}#sk-container-id-15 label.sk-toggleable__label-arrow:before {content: \"▸\";float: left;margin-right: 0.25em;color: #696969;}#sk-container-id-15 label.sk-toggleable__label-arrow:hover:before {color: black;}#sk-container-id-15 div.sk-estimator:hover label.sk-toggleable__label-arrow:before {color: black;}#sk-container-id-15 div.sk-toggleable__content {max-height: 0;max-width: 0;overflow: hidden;text-align: left;background-color: #f0f8ff;}#sk-container-id-15 div.sk-toggleable__content pre {margin: 0.2em;color: black;border-radius: 0.25em;background-color: #f0f8ff;}#sk-container-id-15 input.sk-toggleable__control:checked~div.sk-toggleable__content {max-height: 200px;max-width: 100%;overflow: auto;}#sk-container-id-15 input.sk-toggleable__control:checked~label.sk-toggleable__label-arrow:before {content: \"▾\";}#sk-container-id-15 div.sk-estimator input.sk-toggleable__control:checked~label.sk-toggleable__label {background-color: #d4ebff;}#sk-container-id-15 div.sk-label input.sk-toggleable__control:checked~label.sk-toggleable__label {background-color: #d4ebff;}#sk-container-id-15 input.sk-hidden--visually {border: 0;clip: rect(1px 1px 1px 1px);clip: rect(1px, 1px, 1px, 1px);height: 1px;margin: -1px;overflow: hidden;padding: 0;position: absolute;width: 1px;}#sk-container-id-15 div.sk-estimator {font-family: monospace;background-color: #f0f8ff;border: 1px dotted black;border-radius: 0.25em;box-sizing: border-box;margin-bottom: 0.5em;}#sk-container-id-15 div.sk-estimator:hover {background-color: #d4ebff;}#sk-container-id-15 div.sk-parallel-item::after {content: \"\";width: 100%;border-bottom: 1px solid gray;flex-grow: 1;}#sk-container-id-15 div.sk-label:hover label.sk-toggleable__label {background-color: #d4ebff;}#sk-container-id-15 div.sk-serial::before {content: \"\";position: absolute;border-left: 1px solid gray;box-sizing: border-box;top: 0;bottom: 0;left: 50%;z-index: 0;}#sk-container-id-15 div.sk-serial {display: flex;flex-direction: column;align-items: center;background-color: white;padding-right: 0.2em;padding-left: 0.2em;position: relative;}#sk-container-id-15 div.sk-item {position: relative;z-index: 1;}#sk-container-id-15 div.sk-parallel {display: flex;align-items: stretch;justify-content: center;background-color: white;position: relative;}#sk-container-id-15 div.sk-item::before, #sk-container-id-15 div.sk-parallel-item::before {content: \"\";position: absolute;border-left: 1px solid gray;box-sizing: border-box;top: 0;bottom: 0;left: 50%;z-index: -1;}#sk-container-id-15 div.sk-parallel-item {display: flex;flex-direction: column;z-index: 1;position: relative;background-color: white;}#sk-container-id-15 div.sk-parallel-item:first-child::after {align-self: flex-end;width: 50%;}#sk-container-id-15 div.sk-parallel-item:last-child::after {align-self: flex-start;width: 50%;}#sk-container-id-15 div.sk-parallel-item:only-child::after {width: 0;}#sk-container-id-15 div.sk-dashed-wrapped {border: 1px dashed gray;margin: 0 0.4em 0.5em 0.4em;box-sizing: border-box;padding-bottom: 0.4em;background-color: white;}#sk-container-id-15 div.sk-label label {font-family: monospace;font-weight: bold;display: inline-block;line-height: 1.2em;}#sk-container-id-15 div.sk-label-container {text-align: center;}#sk-container-id-15 div.sk-container {/* jupyter's `normalize.less` sets `[hidden] { display: none; }` but bootstrap.min.css set `[hidden] { display: none !important; }` so we also need the `!important` here to be able to override the default hidden behavior on the sphinx rendered scikit-learn.org. See: https://github.com/scikit-learn/scikit-learn/issues/21755 */display: inline-block !important;position: relative;}#sk-container-id-15 div.sk-text-repr-fallback {display: none;}</style><div id=\"sk-container-id-15\" class=\"sk-top-container\"><div class=\"sk-text-repr-fallback\"><pre>Pipeline(steps=[(&#x27;processor&#x27;,\n",
       "                 ColumnTransformer(remainder=&#x27;passthrough&#x27;,\n",
       "                                   transformers=[(&#x27;cat&#x27;, LabelEncoding(),\n",
       "                                                  [&#x27;sex&#x27;, &#x27;smoker&#x27;, &#x27;region&#x27;]),\n",
       "                                                 (&#x27;num&#x27;, MinMaxScaler(),\n",
       "                                                  [&#x27;age&#x27;, &#x27;bmi&#x27;,\n",
       "                                                   &#x27;children&#x27;])])),\n",
       "                (&#x27;regressor&#x27;, SVR(C=10, epsilon=0.01, gamma=&#x27;auto&#x27;))])</pre><b>In a Jupyter environment, please rerun this cell to show the HTML representation or trust the notebook. <br />On GitHub, the HTML representation is unable to render, please try loading this page with nbviewer.org.</b></div><div class=\"sk-container\" hidden><div class=\"sk-item sk-dashed-wrapped\"><div class=\"sk-label-container\"><div class=\"sk-label sk-toggleable\"><input class=\"sk-toggleable__control sk-hidden--visually\" id=\"sk-estimator-id-57\" type=\"checkbox\" ><label for=\"sk-estimator-id-57\" class=\"sk-toggleable__label sk-toggleable__label-arrow\">Pipeline</label><div class=\"sk-toggleable__content\"><pre>Pipeline(steps=[(&#x27;processor&#x27;,\n",
       "                 ColumnTransformer(remainder=&#x27;passthrough&#x27;,\n",
       "                                   transformers=[(&#x27;cat&#x27;, LabelEncoding(),\n",
       "                                                  [&#x27;sex&#x27;, &#x27;smoker&#x27;, &#x27;region&#x27;]),\n",
       "                                                 (&#x27;num&#x27;, MinMaxScaler(),\n",
       "                                                  [&#x27;age&#x27;, &#x27;bmi&#x27;,\n",
       "                                                   &#x27;children&#x27;])])),\n",
       "                (&#x27;regressor&#x27;, SVR(C=10, epsilon=0.01, gamma=&#x27;auto&#x27;))])</pre></div></div></div><div class=\"sk-serial\"><div class=\"sk-item sk-dashed-wrapped\"><div class=\"sk-label-container\"><div class=\"sk-label sk-toggleable\"><input class=\"sk-toggleable__control sk-hidden--visually\" id=\"sk-estimator-id-58\" type=\"checkbox\" ><label for=\"sk-estimator-id-58\" class=\"sk-toggleable__label sk-toggleable__label-arrow\">processor: ColumnTransformer</label><div class=\"sk-toggleable__content\"><pre>ColumnTransformer(remainder=&#x27;passthrough&#x27;,\n",
       "                  transformers=[(&#x27;cat&#x27;, LabelEncoding(),\n",
       "                                 [&#x27;sex&#x27;, &#x27;smoker&#x27;, &#x27;region&#x27;]),\n",
       "                                (&#x27;num&#x27;, MinMaxScaler(),\n",
       "                                 [&#x27;age&#x27;, &#x27;bmi&#x27;, &#x27;children&#x27;])])</pre></div></div></div><div class=\"sk-parallel\"><div class=\"sk-parallel-item\"><div class=\"sk-item\"><div class=\"sk-label-container\"><div class=\"sk-label sk-toggleable\"><input class=\"sk-toggleable__control sk-hidden--visually\" id=\"sk-estimator-id-59\" type=\"checkbox\" ><label for=\"sk-estimator-id-59\" class=\"sk-toggleable__label sk-toggleable__label-arrow\">cat</label><div class=\"sk-toggleable__content\"><pre>[&#x27;sex&#x27;, &#x27;smoker&#x27;, &#x27;region&#x27;]</pre></div></div></div><div class=\"sk-serial\"><div class=\"sk-item\"><div class=\"sk-estimator sk-toggleable\"><input class=\"sk-toggleable__control sk-hidden--visually\" id=\"sk-estimator-id-60\" type=\"checkbox\" ><label for=\"sk-estimator-id-60\" class=\"sk-toggleable__label sk-toggleable__label-arrow\">LabelEncoding</label><div class=\"sk-toggleable__content\"><pre>LabelEncoding()</pre></div></div></div></div></div></div><div class=\"sk-parallel-item\"><div class=\"sk-item\"><div class=\"sk-label-container\"><div class=\"sk-label sk-toggleable\"><input class=\"sk-toggleable__control sk-hidden--visually\" id=\"sk-estimator-id-61\" type=\"checkbox\" ><label for=\"sk-estimator-id-61\" class=\"sk-toggleable__label sk-toggleable__label-arrow\">num</label><div class=\"sk-toggleable__content\"><pre>[&#x27;age&#x27;, &#x27;bmi&#x27;, &#x27;children&#x27;]</pre></div></div></div><div class=\"sk-serial\"><div class=\"sk-item\"><div class=\"sk-estimator sk-toggleable\"><input class=\"sk-toggleable__control sk-hidden--visually\" id=\"sk-estimator-id-62\" type=\"checkbox\" ><label for=\"sk-estimator-id-62\" class=\"sk-toggleable__label sk-toggleable__label-arrow\">MinMaxScaler</label><div class=\"sk-toggleable__content\"><pre>MinMaxScaler()</pre></div></div></div></div></div></div><div class=\"sk-parallel-item\"><div class=\"sk-item\"><div class=\"sk-label-container\"><div class=\"sk-label sk-toggleable\"><input class=\"sk-toggleable__control sk-hidden--visually\" id=\"sk-estimator-id-63\" type=\"checkbox\" ><label for=\"sk-estimator-id-63\" class=\"sk-toggleable__label sk-toggleable__label-arrow\">remainder</label><div class=\"sk-toggleable__content\"><pre>[]</pre></div></div></div><div class=\"sk-serial\"><div class=\"sk-item\"><div class=\"sk-estimator sk-toggleable\"><input class=\"sk-toggleable__control sk-hidden--visually\" id=\"sk-estimator-id-64\" type=\"checkbox\" ><label for=\"sk-estimator-id-64\" class=\"sk-toggleable__label sk-toggleable__label-arrow\">passthrough</label><div class=\"sk-toggleable__content\"><pre>passthrough</pre></div></div></div></div></div></div></div></div><div class=\"sk-item\"><div class=\"sk-estimator sk-toggleable\"><input class=\"sk-toggleable__control sk-hidden--visually\" id=\"sk-estimator-id-65\" type=\"checkbox\" ><label for=\"sk-estimator-id-65\" class=\"sk-toggleable__label sk-toggleable__label-arrow\">SVR</label><div class=\"sk-toggleable__content\"><pre>SVR(C=10, epsilon=0.01, gamma=&#x27;auto&#x27;)</pre></div></div></div></div></div></div></div>"
      ],
      "text/plain": [
       "Pipeline(steps=[('processor',\n",
       "                 ColumnTransformer(remainder='passthrough',\n",
       "                                   transformers=[('cat', LabelEncoding(),\n",
       "                                                  ['sex', 'smoker', 'region']),\n",
       "                                                 ('num', MinMaxScaler(),\n",
       "                                                  ['age', 'bmi',\n",
       "                                                   'children'])])),\n",
       "                ('regressor', SVR(C=10, epsilon=0.01, gamma='auto'))])"
      ]
     },
     "execution_count": 119,
     "metadata": {},
     "output_type": "execute_result"
    }
   ],
   "source": [
    "training_pipeline = Pipeline(steps=[\n",
    "    ('processor', column_transformer),\n",
    "    ('regressor', SVR(\n",
    "        **grid_search.best_params_\n",
    "    ))\n",
    "])\n",
    "\n",
    "X_t = df.drop(['charges'], axis='columns')\n",
    "y_t = target_scaling.fit_transform(df[target_cols])\n",
    "\n",
    "X_train_t, X_test_t, y_train_t, y_test_t = train_test_split(X_t, y_t)\n",
    "\n",
    "training_pipeline.fit(X_train_t, y_train_t)"
   ]
  },
  {
   "cell_type": "code",
   "execution_count": 120,
   "metadata": {
    "execution": {
     "iopub.execute_input": "2025-09-21T15:44:44.337424Z",
     "iopub.status.busy": "2025-09-21T15:44:44.336508Z",
     "iopub.status.idle": "2025-09-21T15:44:44.356493Z",
     "shell.execute_reply": "2025-09-21T15:44:44.355250Z",
     "shell.execute_reply.started": "2025-09-21T15:44:44.337386Z"
    },
    "trusted": true
   },
   "outputs": [
    {
     "data": {
      "text/plain": [
       "array([0.23500313, 0.18203212, 0.07782355, 0.1720321 , 0.52348388,\n",
       "       0.06639038, 0.06581319, 0.10045132, 0.76727893, 0.10477256])"
      ]
     },
     "execution_count": 120,
     "metadata": {},
     "output_type": "execute_result"
    }
   ],
   "source": [
    "y_pred = training_pipeline.predict(X_test_t)\n",
    "y_pred [:10]"
   ]
  },
  {
   "cell_type": "code",
   "execution_count": 121,
   "metadata": {
    "execution": {
     "iopub.execute_input": "2025-09-21T15:44:46.306346Z",
     "iopub.status.busy": "2025-09-21T15:44:46.305896Z",
     "iopub.status.idle": "2025-09-21T15:44:46.326809Z",
     "shell.execute_reply": "2025-09-21T15:44:46.325900Z",
     "shell.execute_reply.started": "2025-09-21T15:44:46.306318Z"
    },
    "trusted": true
   },
   "outputs": [
    {
     "data": {
      "text/plain": [
       "0.8614658812566003"
      ]
     },
     "execution_count": 121,
     "metadata": {},
     "output_type": "execute_result"
    }
   ],
   "source": [
    "training_pipeline.score(X_test_t, y_test_t)"
   ]
  },
  {
   "cell_type": "code",
   "execution_count": null,
   "metadata": {
    "trusted": true
   },
   "outputs": [],
   "source": []
  }
 ],
 "metadata": {
  "kaggle": {
   "accelerator": "none",
   "dataSources": [
    {
     "datasetId": 8129551,
     "sourceId": 12853160,
     "sourceType": "datasetVersion"
    }
   ],
   "dockerImageVersionId": 31089,
   "isGpuEnabled": false,
   "isInternetEnabled": true,
   "language": "python",
   "sourceType": "notebook"
  },
  "kernelspec": {
   "display_name": "env",
   "language": "python",
   "name": "python3"
  },
  "language_info": {
   "codemirror_mode": {
    "name": "ipython",
    "version": 3
   },
   "file_extension": ".py",
   "mimetype": "text/x-python",
   "name": "python",
   "nbconvert_exporter": "python",
   "pygments_lexer": "ipython3",
   "version": "3.13.7"
  }
 },
 "nbformat": 4,
 "nbformat_minor": 4
}
